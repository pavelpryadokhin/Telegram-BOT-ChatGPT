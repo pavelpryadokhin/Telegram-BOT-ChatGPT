{
  "nbformat": 4,
  "nbformat_minor": 0,
  "metadata": {
    "colab": {
      "provenance": [],
      "authorship_tag": "ABX9TyMiudFpgPkRokPU2Ko+R1N+",
      "include_colab_link": true
    },
    "kernelspec": {
      "name": "python3",
      "display_name": "Python 3"
    },
    "language_info": {
      "name": "python"
    }
  },
  "cells": [
    {
      "cell_type": "markdown",
      "metadata": {
        "id": "view-in-github",
        "colab_type": "text"
      },
      "source": [
        "<a href=\"https://colab.research.google.com/github/pavelpryadokhin/Telegram-BOT-ChatGPT/blob/main/%D0%9F%D0%BE%D0%B4%D0%B3%D0%BE%D1%82%D0%BE%D0%B2%D0%BA%D0%B0_%D0%B4%D0%B0%D0%BD%D0%BD%D1%8B%D1%85_%D0%B4%D0%BB%D1%8F_ChatGpt.ipynb\" target=\"_parent\"><img src=\"https://colab.research.google.com/assets/colab-badge.svg\" alt=\"Open In Colab\"/></a>"
      ]
    },
    {
      "cell_type": "code",
      "source": [
        "!pip install openai mwclient mwparserfromhell tiktoken\n"
      ],
      "metadata": {
        "id": "BkVVLwMMZn-_"
      },
      "execution_count": null,
      "outputs": []
    },
    {
      "cell_type": "code",
      "source": [
        "import mwclient\n",
        "import mwparserfromhell\n",
        "import openai\n",
        "import pandas as pd\n",
        "import re\n",
        "import tiktoken\n",
        "import warnings\n",
        "\n",
        "warnings.filterwarnings('ignore')"
      ],
      "metadata": {
        "id": "poDDtM6DZx0v"
      },
      "execution_count": null,
      "outputs": []
    },
    {
      "cell_type": "code",
      "source": [
        "CATEGORY_TITLE = \"Category:Saint Petersburg\"\n",
        "WIKI_SITE = \"en.wikipedia.org\"\n",
        "\n",
        "def titles_from_category(\n",
        "    category: mwclient.listing.Category,\n",
        "    max_depth: int\n",
        ") -> set[str]:\n",
        "    \"\"\"Возвращает набор заголовков страниц в данной категории Википедии и ее подкатегориях.\"\"\"\n",
        "    titles = set()\n",
        "    for cm in category.members():\n",
        "        if type(cm) == mwclient.page.Page:\n",
        "            titles.add(cm.name)\n",
        "        elif isinstance(cm, mwclient.listing.Category) and max_depth > 0:\n",
        "            deeper_titles = titles_from_category(cm, max_depth=max_depth - 1)\n",
        "            titles.update(deeper_titles)\n",
        "    return titles\n",
        "\n",
        "# Инициализация объекта MediaWiki\n",
        "site = mwclient.Site(WIKI_SITE)\n",
        "category_page = site.pages[CATEGORY_TITLE]\n",
        "titles = titles_from_category(category_page, max_depth=1)\n",
        "\n",
        "print(f\"Создано {len(titles)} заголовков статей в категории {CATEGORY_TITLE}.\")"
      ],
      "metadata": {
        "colab": {
          "base_uri": "https://localhost:8080/"
        },
        "id": "ghmxKMRFaXbg",
        "outputId": "c3d46899-1b84-478d-a1ca-db162cb0bdd8"
      },
      "execution_count": null,
      "outputs": [
        {
          "output_type": "stream",
          "name": "stderr",
          "text": [
            "/usr/local/lib/python3.10/dist-packages/ipykernel/ipkernel.py:283: DeprecationWarning: `should_run_async` will not call `transform_cell` automatically in the future. Please pass the result to `transformed_cell` argument and any exception that happen during thetransform in `preprocessing_exc_tuple` in IPython 7.17 and above.\n",
            "  and should_run_async(code)\n"
          ]
        },
        {
          "output_type": "stream",
          "name": "stdout",
          "text": [
            "Создано 424 заголовков статей в категории Category:Saint Petersburg.\n"
          ]
        }
      ]
    },
    {
      "cell_type": "code",
      "source": [
        "# Задаем секции, которые будут отброшены при парсинге статей\n",
        "SECTIONS_TO_IGNORE = [\n",
        "    \"See also\",\n",
        "    \"References\",\n",
        "    \"External links\",\n",
        "    \"Further reading\",\n",
        "    \"Footnotes\",\n",
        "    \"Bibliography\",\n",
        "    \"Sources\",\n",
        "    \"Citations\",\n",
        "    \"Literature\",\n",
        "    \"Footnotes\",\n",
        "    \"Notes and references\",\n",
        "    \"Photo gallery\",\n",
        "    \"Works cited\",\n",
        "    \"Photos\",\n",
        "    \"Gallery\",\n",
        "    \"Notes\",\n",
        "    \"References and sources\",\n",
        "    \"References and notes\",\n",
        "]\n"
      ],
      "metadata": {
        "colab": {
          "base_uri": "https://localhost:8080/"
        },
        "id": "oOQN3p1VcYIy",
        "outputId": "ac08daf8-973e-49a2-c89a-9667e4858780"
      },
      "execution_count": null,
      "outputs": [
        {
          "output_type": "stream",
          "name": "stderr",
          "text": [
            "/usr/local/lib/python3.10/dist-packages/ipykernel/ipkernel.py:283: DeprecationWarning: `should_run_async` will not call `transform_cell` automatically in the future. Please pass the result to `transformed_cell` argument and any exception that happen during thetransform in `preprocessing_exc_tuple` in IPython 7.17 and above.\n",
            "  and should_run_async(code)\n"
          ]
        }
      ]
    },
    {
      "cell_type": "code",
      "source": [
        "def all_subsections_from_section(\n",
        "    section: mwparserfromhell.wikicode.Wikicode,\n",
        "    parent_titles: list[str],\n",
        "    sections_to_ignore: set[str],\n",
        ") -> list[tuple[list[str], str]]:\n",
        "    \"\"\"\n",
        "    Возвращает список всех вложенных секций для заданной секции страницы Википедии.\n",
        "    Каждый подраздел представляет собой кортеж из заголовков и текста секции.\n",
        "    \"\"\"\n",
        "\n",
        "    headings = [str(h) for h in section.filter_headings()]\n",
        "    title = headings[0]\n",
        "    if title.strip(\"=\" + \" \") in sections_to_ignore:\n",
        "        return []\n",
        "\n",
        "    titles = parent_titles + [title]\n",
        "    full_text = str(section)\n",
        "    section_text = full_text.split(title)[1]\n",
        "\n",
        "    if len(headings) == 1:\n",
        "        return [(titles, section_text)]\n",
        "    else:\n",
        "        first_subtitle = headings[1]\n",
        "        section_text = section_text.split(first_subtitle)[0]\n",
        "        results = [(titles, section_text)]\n",
        "        for subsection in section.get_sections(levels=[len(titles) + 1]):\n",
        "            results.extend(all_subsections_from_section(subsection, titles, sections_to_ignore))\n",
        "        return results\n",
        "\n",
        "def all_subsections_from_title(\n",
        "    title: str,\n",
        "    sections_to_ignore: set[str] = SECTIONS_TO_IGNORE,\n",
        "    site_name: str = WIKI_SITE,\n",
        ") -> list[tuple[list[str], str]]:\n",
        "    \"\"\"\n",
        "    Возвращает список всех вложенных секций для заданного заголовка страницы Википедии.\n",
        "    Каждый подраздел представляет собой кортеж из заголовков и текста.\n",
        "    \"\"\"\n",
        "\n",
        "    site = mwclient.Site(site_name)\n",
        "    page = site.pages[title]\n",
        "    text = page.text()\n",
        "    parsed_text = mwparserfromhell.parse(text)\n",
        "    headings = [str(h) for h in parsed_text.filter_headings()]\n",
        "\n",
        "    if headings:\n",
        "        summary_text = str(parsed_text).split(headings[0])[0]\n",
        "    else:\n",
        "        summary_text = str(parsed_text)\n",
        "\n",
        "    results = [([title], summary_text)]\n",
        "    for subsection in parsed_text.get_sections(levels=[2]):\n",
        "        results.extend(all_subsections_from_section(subsection, [title], sections_to_ignore))\n",
        "    return results"
      ],
      "metadata": {
        "colab": {
          "base_uri": "https://localhost:8080/"
        },
        "id": "_rtJWIqdd15w",
        "outputId": "86aaf5e0-5ac8-4b7b-ec47-3a2436a5fd35"
      },
      "execution_count": null,
      "outputs": [
        {
          "output_type": "stream",
          "name": "stderr",
          "text": [
            "/usr/local/lib/python3.10/dist-packages/ipykernel/ipkernel.py:283: DeprecationWarning: `should_run_async` will not call `transform_cell` automatically in the future. Please pass the result to `transformed_cell` argument and any exception that happen during thetransform in `preprocessing_exc_tuple` in IPython 7.17 and above.\n",
            "  and should_run_async(code)\n"
          ]
        }
      ]
    },
    {
      "cell_type": "code",
      "source": [
        "# Разбивка статей на секции\n",
        "# придется немного подождать, так как на парсинг 100 статей требуется около минуты\n",
        "wikipedia_sections = []\n",
        "for title in titles:\n",
        "    wikipedia_sections.extend(all_subsections_from_title(title))\n",
        "print(f\"Найдено {len(wikipedia_sections)} секций на {len(titles)} страницах\")"
      ],
      "metadata": {
        "colab": {
          "base_uri": "https://localhost:8080/"
        },
        "id": "8InubGkhl2bo",
        "outputId": "4963e27b-16ba-468e-9eda-0c63e18b1365"
      },
      "execution_count": null,
      "outputs": [
        {
          "output_type": "stream",
          "name": "stderr",
          "text": [
            "/usr/local/lib/python3.10/dist-packages/ipykernel/ipkernel.py:283: DeprecationWarning: `should_run_async` will not call `transform_cell` automatically in the future. Please pass the result to `transformed_cell` argument and any exception that happen during thetransform in `preprocessing_exc_tuple` in IPython 7.17 and above.\n",
            "  and should_run_async(code)\n"
          ]
        },
        {
          "output_type": "stream",
          "name": "stdout",
          "text": [
            "Найдено 1971 секций на 424 страницах\n"
          ]
        }
      ]
    },
    {
      "cell_type": "code",
      "source": [
        "def clean_section(section: tuple[list[str], str]) -> tuple[list[str], str]:\n",
        "    titles, text = section\n",
        "    text = re.sub(r\"<ref.*?</ref>\", \"\", text)  # Удаление ссылок\n",
        "    text = text.strip()  # Удаление пробелов\n",
        "    return (titles, text)\n",
        "\n",
        "# Применяем функцию очистки ко всем секциям\n",
        "wikipedia_sections = [clean_section(ws) for ws in wikipedia_sections]\n",
        "\n",
        "def keep_section(section: tuple[list[str], str]) -> bool:\n",
        "    \"\"\"Возвращает True, если раздел должен быть сохранен.\"\"\"\n",
        "    titles, text = section\n",
        "    return len(text) >= 16\n",
        "\n",
        "original_num_sections = len(wikipedia_sections)\n",
        "wikipedia_sections = [ws for ws in wikipedia_sections if keep_section(ws)]\n",
        "print(f\"Отфильтровано {original_num_sections - len(wikipedia_sections)} секций, осталось {len(wikipedia_sections)} секций.\")"
      ],
      "metadata": {
        "colab": {
          "base_uri": "https://localhost:8080/"
        },
        "id": "I1SjDDQyl_hR",
        "outputId": "d1794c96-7f89-4f94-9483-868b48be2f46"
      },
      "execution_count": null,
      "outputs": [
        {
          "output_type": "stream",
          "name": "stdout",
          "text": [
            "Отфильтровано 111 секций, осталось 1860 секций.\n"
          ]
        },
        {
          "output_type": "stream",
          "name": "stderr",
          "text": [
            "/usr/local/lib/python3.10/dist-packages/ipykernel/ipkernel.py:283: DeprecationWarning: `should_run_async` will not call `transform_cell` automatically in the future. Please pass the result to `transformed_cell` argument and any exception that happen during thetransform in `preprocessing_exc_tuple` in IPython 7.17 and above.\n",
            "  and should_run_async(code)\n"
          ]
        }
      ]
    },
    {
      "cell_type": "code",
      "source": [
        "for ws in wikipedia_sections[:5]:\n",
        "    print(ws[0])\n",
        "    display(ws[1][:50] + \"...\")\n",
        "    print()"
      ],
      "metadata": {
        "colab": {
          "base_uri": "https://localhost:8080/",
          "height": 340
        },
        "id": "cjaoJ3plmk0K",
        "outputId": "86e7d00c-d3ec-414a-992a-d7980f555da8"
      },
      "execution_count": null,
      "outputs": [
        {
          "output_type": "stream",
          "name": "stdout",
          "text": [
            "['Template:SaintPetersburg-stub']\n"
          ]
        },
        {
          "output_type": "stream",
          "name": "stderr",
          "text": [
            "/usr/local/lib/python3.10/dist-packages/ipykernel/ipkernel.py:283: DeprecationWarning: `should_run_async` will not call `transform_cell` automatically in the future. Please pass the result to `transformed_cell` argument and any exception that happen during thetransform in `preprocessing_exc_tuple` in IPython 7.17 and above.\n",
            "  and should_run_async(code)\n"
          ]
        },
        {
          "output_type": "display_data",
          "data": {
            "text/plain": [
              "'{{asbox\\n| image     = Coat of Arms of Saint Peters...'"
            ],
            "application/vnd.google.colaboratory.intrinsic+json": {
              "type": "string"
            }
          },
          "metadata": {}
        },
        {
          "output_type": "stream",
          "name": "stdout",
          "text": [
            "\n",
            "['Naval Cadet Corps (Russia)']\n"
          ]
        },
        {
          "output_type": "display_data",
          "data": {
            "text/plain": [
              "'[[image:Naval Institute of SPB.jpg|thumb|right|Nav...'"
            ],
            "application/vnd.google.colaboratory.intrinsic+json": {
              "type": "string"
            }
          },
          "metadata": {}
        },
        {
          "output_type": "stream",
          "name": "stdout",
          "text": [
            "\n",
            "['Naval Cadet Corps (Russia)', '==History==']\n"
          ]
        },
        {
          "output_type": "display_data",
          "data": {
            "text/plain": [
              "'[[File:Рисунки к статье «Морской корпус». Вклейка ...'"
            ],
            "application/vnd.google.colaboratory.intrinsic+json": {
              "type": "string"
            }
          },
          "metadata": {}
        },
        {
          "output_type": "stream",
          "name": "stdout",
          "text": [
            "\n",
            "['Naval Cadet Corps (Russia)', '==Post Revolution==']\n"
          ]
        },
        {
          "output_type": "display_data",
          "data": {
            "text/plain": [
              "'The College reopened in 1918 to educate officers f...'"
            ],
            "application/vnd.google.colaboratory.intrinsic+json": {
              "type": "string"
            }
          },
          "metadata": {}
        },
        {
          "output_type": "stream",
          "name": "stdout",
          "text": [
            "\n",
            "['Demographics of Saint Petersburg']\n"
          ]
        },
        {
          "output_type": "display_data",
          "data": {
            "text/plain": [
              "'{{Infobox place demographics|place=[[Saint Petersb...'"
            ],
            "application/vnd.google.colaboratory.intrinsic+json": {
              "type": "string"
            }
          },
          "metadata": {}
        },
        {
          "output_type": "stream",
          "name": "stdout",
          "text": [
            "\n"
          ]
        }
      ]
    },
    {
      "cell_type": "code",
      "source": [
        "GPT_MODEL = \"gpt-3.5-turbo\"  # Для выбора токенизатора\n",
        "\n",
        "def num_tokens(text: str, model: str = GPT_MODEL) -> int:\n",
        "    \"\"\"Возвращает число токенов в строке.\"\"\"\n",
        "    encoding = tiktoken.encoding_for_model(model)\n",
        "    return len(encoding.encode(text))\n",
        "\n",
        "def halved_by_delimiter(string: str, delimiter: str = \"\\n\") -> list[str]:\n",
        "    \"\"\"Разделяет строку на две части, стараясь сбалансировать токены.\"\"\"\n",
        "    chunks = string.split(delimiter)\n",
        "    if len(chunks) == 1:\n",
        "        return [string, \"\"]\n",
        "    elif len(chunks) == 2:\n",
        "        return chunks\n",
        "    else:\n",
        "        total_tokens = num_tokens(string)\n",
        "        halfway = total_tokens // 2\n",
        "        best_diff = halfway\n",
        "        for i, chunk in enumerate(chunks):\n",
        "            left = delimiter.join(chunks[:i + 1])\n",
        "            left_tokens = num_tokens(left)\n",
        "            diff = abs(halfway - left_tokens)\n",
        "            if diff >= best_diff:\n",
        "                break\n",
        "            best_diff = diff\n",
        "        left = delimiter.join(chunks[:i])\n",
        "        right = delimiter.join(chunks[i:])\n",
        "        return [left, right]\n",
        "\n",
        "def truncated_string(string: str, model: str, max_tokens: int, print_warning: bool = True) -> str:\n",
        "    \"\"\"Обрезает строку до максимально разрешенного числа токенов.\"\"\"\n",
        "    encoding = tiktoken.encoding_for_model(model)\n",
        "    encoded_string = encoding.encode(string)\n",
        "    truncated_string = encoding.decode(encoded_string[:max_tokens])\n",
        "    if print_warning and len(encoded_string) > max_tokens:\n",
        "        print(f\"Предупреждение: Строка обрезана с {len(encoded_string)} токенов до {max_tokens} токенов.\")\n",
        "    return truncated_string\n",
        "\n",
        "def split_strings_from_subsection(\n",
        "    subsection: tuple[list[str], str],\n",
        "    max_tokens: int = 1000,\n",
        "    model: str = GPT_MODEL,\n",
        "    max_recursion: int = 5,\n",
        ") -> list[str]:\n",
        "    \"\"\"Разделяет секции на список частей, каждая с не более чем max_tokens.\"\"\"\n",
        "    titles, text = subsection\n",
        "    string = \"\\n\\n\".join(titles + [text])\n",
        "    num_tokens_in_string = num_tokens(string)\n",
        "\n",
        "    if num_tokens_in_string <= max_tokens:\n",
        "        return [string]\n",
        "    elif max_recursion == 0:\n",
        "        return [truncated_string(string, model=model, max_tokens=max_tokens)]\n",
        "    else:\n",
        "        titles, text = subsection\n",
        "        for delimiter in [\"\\n\\n\", \"\\n\", \". \"]:\n",
        "            left, right = halved_by_delimiter(text, delimiter=delimiter)\n",
        "            if left == \"\" or right == \"\": continue\n",
        "            else:\n",
        "                results = []\n",
        "                for half in [left, right]:\n",
        "                    half_subsection = (titles, half)\n",
        "                    half_strings = split_strings_from_subsection(\n",
        "                        half_subsection,\n",
        "                        max_tokens=max_tokens,\n",
        "                        model=model,\n",
        "                        max_recursion=max_recursion - 1,)\n",
        "                    results.extend(half_strings)\n",
        "                return results\n",
        "    return [truncated_string(string, model=model, max_tokens=max_tokens)]"
      ],
      "metadata": {
        "colab": {
          "base_uri": "https://localhost:8080/"
        },
        "id": "a3ZymvGemtAX",
        "outputId": "44ca40e0-f27c-439a-cc79-8b19c0d5d4fd"
      },
      "execution_count": null,
      "outputs": [
        {
          "output_type": "stream",
          "name": "stderr",
          "text": [
            "/usr/local/lib/python3.10/dist-packages/ipykernel/ipkernel.py:283: DeprecationWarning: `should_run_async` will not call `transform_cell` automatically in the future. Please pass the result to `transformed_cell` argument and any exception that happen during thetransform in `preprocessing_exc_tuple` in IPython 7.17 and above.\n",
            "  and should_run_async(code)\n"
          ]
        }
      ]
    },
    {
      "cell_type": "code",
      "source": [
        "# Делим секции на части\n",
        "MAX_TOKENS = 1600\n",
        "wikipedia_strings = []\n",
        "for section in wikipedia_sections:\n",
        "    wikipedia_strings.extend(split_strings_from_subsection(section, max_tokens=MAX_TOKENS))\n",
        "\n",
        "print(f\"{len(wikipedia_sections)} секций Википедии поделены на {len(wikipedia_strings)} строк.\")\n"
      ],
      "metadata": {
        "colab": {
          "base_uri": "https://localhost:8080/"
        },
        "id": "SuRHsPAyxKIU",
        "outputId": "845da074-17cb-4b1b-f3df-00fb3f6ecffb"
      },
      "execution_count": null,
      "outputs": [
        {
          "output_type": "stream",
          "name": "stderr",
          "text": [
            "/usr/local/lib/python3.10/dist-packages/ipykernel/ipkernel.py:283: DeprecationWarning: `should_run_async` will not call `transform_cell` automatically in the future. Please pass the result to `transformed_cell` argument and any exception that happen during thetransform in `preprocessing_exc_tuple` in IPython 7.17 and above.\n",
            "  and should_run_async(code)\n"
          ]
        },
        {
          "output_type": "stream",
          "name": "stdout",
          "text": [
            "1860 секций Википедии поделены на 1926 строк.\n"
          ]
        }
      ]
    },
    {
      "cell_type": "code",
      "source": [
        "print(wikipedia_strings[1])"
      ],
      "metadata": {
        "colab": {
          "base_uri": "https://localhost:8080/"
        },
        "id": "BDWZGeCGxVdk",
        "outputId": "37d39fd2-f048-4c6b-e7e7-267a99773fcf"
      },
      "execution_count": null,
      "outputs": [
        {
          "output_type": "stream",
          "name": "stdout",
          "text": [
            "Naval Cadet Corps (Russia)\n",
            "\n",
            "[[image:Naval Institute of SPB.jpg|thumb|right|Naval Cadet Corps building in 2014]]\n",
            "The '''Naval Cadet Corps''' ({{lang-ru|Морской кадетский корпус}}), occasionally translated as the Marine Cadet Corps or the Sea Cadet Corps, is an educational establishment for educating naval officers for commissioning in the [[Russian Navy]] in [[Saint Petersburg]].\n"
          ]
        },
        {
          "output_type": "stream",
          "name": "stderr",
          "text": [
            "/usr/local/lib/python3.10/dist-packages/ipykernel/ipkernel.py:283: DeprecationWarning: `should_run_async` will not call `transform_cell` automatically in the future. Please pass the result to `transformed_cell` argument and any exception that happen during thetransform in `preprocessing_exc_tuple` in IPython 7.17 and above.\n",
            "  and should_run_async(code)\n"
          ]
        }
      ]
    },
    {
      "cell_type": "code",
      "source": [
        "from openai import OpenAI\n",
        "import os\n",
        "import getpass\n",
        "\n",
        "EMBEDDING_MODEL = \"text-embedding-ada-002\"  # Модель токенизации от OpenAI\n",
        "\n",
        "os.environ[\"OPENAI_API_KEY\"] = getpass.getpass(\"Введите OpenAI API Key:\")\n",
        "client = OpenAI(api_key=os.environ.get(\"OPENAI_API_KEY\"))\n",
        "\n",
        "def get_embedding(text, model=\"text-embedding-ada-002\"):\n",
        "    \"\"\"Получает эмбеддинг для переданного текста.\"\"\"\n",
        "    return client.embeddings.create(input=[text], model=model).data[0].embedding"
      ],
      "metadata": {
        "colab": {
          "base_uri": "https://localhost:8080/"
        },
        "id": "HBjlW0iKxyqq",
        "outputId": "f6d1bf19-a1b0-4a0a-b28e-348b678cce2d"
      },
      "execution_count": null,
      "outputs": [
        {
          "output_type": "stream",
          "name": "stderr",
          "text": [
            "/usr/local/lib/python3.10/dist-packages/ipykernel/ipkernel.py:283: DeprecationWarning: `should_run_async` will not call `transform_cell` automatically in the future. Please pass the result to `transformed_cell` argument and any exception that happen during thetransform in `preprocessing_exc_tuple` in IPython 7.17 and above.\n",
            "  and should_run_async(code)\n"
          ]
        },
        {
          "name": "stdout",
          "output_type": "stream",
          "text": [
            "Введите OpenAI API Key:··········\n"
          ]
        }
      ]
    },
    {
      "cell_type": "code",
      "source": [
        "SAVE_PATH = \"./Saint Petersburg.csv\"\n",
        "\n",
        "df = pd.DataFrame({\"text\": wikipedia_strings[:10]})\n",
        "df['embedding'] = df.text.apply(lambda x: get_embedding(x, model='text-embedding-ada-002'))\n",
        "df.to_csv(SAVE_PATH, index=False)"
      ],
      "metadata": {
        "colab": {
          "base_uri": "https://localhost:8080/"
        },
        "id": "AOxyjQPjx4RV",
        "outputId": "9b446501-dacd-472c-a548-8626fe510211"
      },
      "execution_count": null,
      "outputs": [
        {
          "output_type": "stream",
          "name": "stderr",
          "text": [
            "/usr/local/lib/python3.10/dist-packages/ipykernel/ipkernel.py:283: DeprecationWarning: `should_run_async` will not call `transform_cell` automatically in the future. Please pass the result to `transformed_cell` argument and any exception that happen during thetransform in `preprocessing_exc_tuple` in IPython 7.17 and above.\n",
            "  and should_run_async(code)\n"
          ]
        }
      ]
    },
    {
      "cell_type": "code",
      "source": [
        "df.head(10)"
      ],
      "metadata": {
        "colab": {
          "base_uri": "https://localhost:8080/",
          "height": 3836
        },
        "id": "7OQXscKqzzq1",
        "outputId": "a0323be9-63fa-4b36-dae7-3ef8e5a47659"
      },
      "execution_count": null,
      "outputs": [
        {
          "output_type": "stream",
          "name": "stderr",
          "text": [
            "/usr/local/lib/python3.10/dist-packages/ipykernel/ipkernel.py:283: DeprecationWarning: `should_run_async` will not call `transform_cell` automatically in the future. Please pass the result to `transformed_cell` argument and any exception that happen during thetransform in `preprocessing_exc_tuple` in IPython 7.17 and above.\n",
            "  and should_run_async(code)\n"
          ]
        },
        {
          "output_type": "execute_result",
          "data": {
            "text/plain": [
              "                                                text  \\\n",
              "0  Template:SaintPetersburg-stub\\n\\n{{asbox\\n| im...   \n",
              "1  Naval Cadet Corps (Russia)\\n\\n[[image:Naval In...   \n",
              "2  Naval Cadet Corps (Russia)\\n\\n==History==\\n\\n[...   \n",
              "3  Naval Cadet Corps (Russia)\\n\\n==Post Revolutio...   \n",
              "4  Demographics of Saint Petersburg\\n\\n{{Infobox ...   \n",
              "5  Demographics of Saint Petersburg\\n\\n==Ethnicit...   \n",
              "6  Demographics of Saint Petersburg\\n\\n==Ethnicit...   \n",
              "7  Demographics of Saint Petersburg\\n\\n==Ethnicit...   \n",
              "8  Demographics of Saint Petersburg\\n\\n==Ethnicit...   \n",
              "9  Demographics of Saint Petersburg\\n\\n==Ethnicit...   \n",
              "\n",
              "                                           embedding  \n",
              "0  [-0.019218014553189278, 0.0011772229336202145,...  \n",
              "1  [-0.017364492639899254, 0.002858232008293271, ...  \n",
              "2  [-0.0005884834681637585, 0.005313960835337639,...  \n",
              "3  [0.004730003885924816, -0.012998382560908794, ...  \n",
              "4  [0.02548605389893055, -0.0038593898061662912, ...  \n",
              "5  [0.01871417462825775, 0.007973752915859222, 0....  \n",
              "6  [0.01630660891532898, 0.01141198817640543, 0.0...  \n",
              "7  [0.025462275370955467, 0.009829869493842125, 0...  \n",
              "8  [0.02320416271686554, 0.0060261948965489864, 0...  \n",
              "9  [0.018607303500175476, 0.006891593802720308, 0...  "
            ],
            "text/html": [
              "\n",
              "  <div id=\"df-03d7bc65-fc07-4287-bd2b-2f12e1db8800\" class=\"colab-df-container\">\n",
              "    <div>\n",
              "<style scoped>\n",
              "    .dataframe tbody tr th:only-of-type {\n",
              "        vertical-align: middle;\n",
              "    }\n",
              "\n",
              "    .dataframe tbody tr th {\n",
              "        vertical-align: top;\n",
              "    }\n",
              "\n",
              "    .dataframe thead th {\n",
              "        text-align: right;\n",
              "    }\n",
              "</style>\n",
              "<table border=\"1\" class=\"dataframe\">\n",
              "  <thead>\n",
              "    <tr style=\"text-align: right;\">\n",
              "      <th></th>\n",
              "      <th>text</th>\n",
              "      <th>embedding</th>\n",
              "    </tr>\n",
              "  </thead>\n",
              "  <tbody>\n",
              "    <tr>\n",
              "      <th>0</th>\n",
              "      <td>Template:SaintPetersburg-stub\\n\\n{{asbox\\n| im...</td>\n",
              "      <td>[-0.019218014553189278, 0.0011772229336202145,...</td>\n",
              "    </tr>\n",
              "    <tr>\n",
              "      <th>1</th>\n",
              "      <td>Naval Cadet Corps (Russia)\\n\\n[[image:Naval In...</td>\n",
              "      <td>[-0.017364492639899254, 0.002858232008293271, ...</td>\n",
              "    </tr>\n",
              "    <tr>\n",
              "      <th>2</th>\n",
              "      <td>Naval Cadet Corps (Russia)\\n\\n==History==\\n\\n[...</td>\n",
              "      <td>[-0.0005884834681637585, 0.005313960835337639,...</td>\n",
              "    </tr>\n",
              "    <tr>\n",
              "      <th>3</th>\n",
              "      <td>Naval Cadet Corps (Russia)\\n\\n==Post Revolutio...</td>\n",
              "      <td>[0.004730003885924816, -0.012998382560908794, ...</td>\n",
              "    </tr>\n",
              "    <tr>\n",
              "      <th>4</th>\n",
              "      <td>Demographics of Saint Petersburg\\n\\n{{Infobox ...</td>\n",
              "      <td>[0.02548605389893055, -0.0038593898061662912, ...</td>\n",
              "    </tr>\n",
              "    <tr>\n",
              "      <th>5</th>\n",
              "      <td>Demographics of Saint Petersburg\\n\\n==Ethnicit...</td>\n",
              "      <td>[0.01871417462825775, 0.007973752915859222, 0....</td>\n",
              "    </tr>\n",
              "    <tr>\n",
              "      <th>6</th>\n",
              "      <td>Demographics of Saint Petersburg\\n\\n==Ethnicit...</td>\n",
              "      <td>[0.01630660891532898, 0.01141198817640543, 0.0...</td>\n",
              "    </tr>\n",
              "    <tr>\n",
              "      <th>7</th>\n",
              "      <td>Demographics of Saint Petersburg\\n\\n==Ethnicit...</td>\n",
              "      <td>[0.025462275370955467, 0.009829869493842125, 0...</td>\n",
              "    </tr>\n",
              "    <tr>\n",
              "      <th>8</th>\n",
              "      <td>Demographics of Saint Petersburg\\n\\n==Ethnicit...</td>\n",
              "      <td>[0.02320416271686554, 0.0060261948965489864, 0...</td>\n",
              "    </tr>\n",
              "    <tr>\n",
              "      <th>9</th>\n",
              "      <td>Demographics of Saint Petersburg\\n\\n==Ethnicit...</td>\n",
              "      <td>[0.018607303500175476, 0.006891593802720308, 0...</td>\n",
              "    </tr>\n",
              "  </tbody>\n",
              "</table>\n",
              "</div>\n",
              "    <div class=\"colab-df-buttons\">\n",
              "\n",
              "  <div class=\"colab-df-container\">\n",
              "    <button class=\"colab-df-convert\" onclick=\"convertToInteractive('df-03d7bc65-fc07-4287-bd2b-2f12e1db8800')\"\n",
              "            title=\"Convert this dataframe to an interactive table.\"\n",
              "            style=\"display:none;\">\n",
              "\n",
              "  <svg xmlns=\"http://www.w3.org/2000/svg\" height=\"24px\" viewBox=\"0 -960 960 960\">\n",
              "    <path d=\"M120-120v-720h720v720H120Zm60-500h600v-160H180v160Zm220 220h160v-160H400v160Zm0 220h160v-160H400v160ZM180-400h160v-160H180v160Zm440 0h160v-160H620v160ZM180-180h160v-160H180v160Zm440 0h160v-160H620v160Z\"/>\n",
              "  </svg>\n",
              "    </button>\n",
              "\n",
              "  <style>\n",
              "    .colab-df-container {\n",
              "      display:flex;\n",
              "      gap: 12px;\n",
              "    }\n",
              "\n",
              "    .colab-df-convert {\n",
              "      background-color: #E8F0FE;\n",
              "      border: none;\n",
              "      border-radius: 50%;\n",
              "      cursor: pointer;\n",
              "      display: none;\n",
              "      fill: #1967D2;\n",
              "      height: 32px;\n",
              "      padding: 0 0 0 0;\n",
              "      width: 32px;\n",
              "    }\n",
              "\n",
              "    .colab-df-convert:hover {\n",
              "      background-color: #E2EBFA;\n",
              "      box-shadow: 0px 1px 2px rgba(60, 64, 67, 0.3), 0px 1px 3px 1px rgba(60, 64, 67, 0.15);\n",
              "      fill: #174EA6;\n",
              "    }\n",
              "\n",
              "    .colab-df-buttons div {\n",
              "      margin-bottom: 4px;\n",
              "    }\n",
              "\n",
              "    [theme=dark] .colab-df-convert {\n",
              "      background-color: #3B4455;\n",
              "      fill: #D2E3FC;\n",
              "    }\n",
              "\n",
              "    [theme=dark] .colab-df-convert:hover {\n",
              "      background-color: #434B5C;\n",
              "      box-shadow: 0px 1px 3px 1px rgba(0, 0, 0, 0.15);\n",
              "      filter: drop-shadow(0px 1px 2px rgba(0, 0, 0, 0.3));\n",
              "      fill: #FFFFFF;\n",
              "    }\n",
              "  </style>\n",
              "\n",
              "    <script>\n",
              "      const buttonEl =\n",
              "        document.querySelector('#df-03d7bc65-fc07-4287-bd2b-2f12e1db8800 button.colab-df-convert');\n",
              "      buttonEl.style.display =\n",
              "        google.colab.kernel.accessAllowed ? 'block' : 'none';\n",
              "\n",
              "      async function convertToInteractive(key) {\n",
              "        const element = document.querySelector('#df-03d7bc65-fc07-4287-bd2b-2f12e1db8800');\n",
              "        const dataTable =\n",
              "          await google.colab.kernel.invokeFunction('convertToInteractive',\n",
              "                                                    [key], {});\n",
              "        if (!dataTable) return;\n",
              "\n",
              "        const docLinkHtml = 'Like what you see? Visit the ' +\n",
              "          '<a target=\"_blank\" href=https://colab.research.google.com/notebooks/data_table.ipynb>data table notebook</a>'\n",
              "          + ' to learn more about interactive tables.';\n",
              "        element.innerHTML = '';\n",
              "        dataTable['output_type'] = 'display_data';\n",
              "        await google.colab.output.renderOutput(dataTable, element);\n",
              "        const docLink = document.createElement('div');\n",
              "        docLink.innerHTML = docLinkHtml;\n",
              "        element.appendChild(docLink);\n",
              "      }\n",
              "    </script>\n",
              "  </div>\n",
              "\n",
              "\n",
              "<div id=\"df-4e4fd7fe-8aaa-42c8-a759-1d8427d52fc4\">\n",
              "  <button class=\"colab-df-quickchart\" onclick=\"quickchart('df-4e4fd7fe-8aaa-42c8-a759-1d8427d52fc4')\"\n",
              "            title=\"Suggest charts\"\n",
              "            style=\"display:none;\">\n",
              "\n",
              "<svg xmlns=\"http://www.w3.org/2000/svg\" height=\"24px\"viewBox=\"0 0 24 24\"\n",
              "     width=\"24px\">\n",
              "    <g>\n",
              "        <path d=\"M19 3H5c-1.1 0-2 .9-2 2v14c0 1.1.9 2 2 2h14c1.1 0 2-.9 2-2V5c0-1.1-.9-2-2-2zM9 17H7v-7h2v7zm4 0h-2V7h2v10zm4 0h-2v-4h2v4z\"/>\n",
              "    </g>\n",
              "</svg>\n",
              "  </button>\n",
              "\n",
              "<style>\n",
              "  .colab-df-quickchart {\n",
              "      --bg-color: #E8F0FE;\n",
              "      --fill-color: #1967D2;\n",
              "      --hover-bg-color: #E2EBFA;\n",
              "      --hover-fill-color: #174EA6;\n",
              "      --disabled-fill-color: #AAA;\n",
              "      --disabled-bg-color: #DDD;\n",
              "  }\n",
              "\n",
              "  [theme=dark] .colab-df-quickchart {\n",
              "      --bg-color: #3B4455;\n",
              "      --fill-color: #D2E3FC;\n",
              "      --hover-bg-color: #434B5C;\n",
              "      --hover-fill-color: #FFFFFF;\n",
              "      --disabled-bg-color: #3B4455;\n",
              "      --disabled-fill-color: #666;\n",
              "  }\n",
              "\n",
              "  .colab-df-quickchart {\n",
              "    background-color: var(--bg-color);\n",
              "    border: none;\n",
              "    border-radius: 50%;\n",
              "    cursor: pointer;\n",
              "    display: none;\n",
              "    fill: var(--fill-color);\n",
              "    height: 32px;\n",
              "    padding: 0;\n",
              "    width: 32px;\n",
              "  }\n",
              "\n",
              "  .colab-df-quickchart:hover {\n",
              "    background-color: var(--hover-bg-color);\n",
              "    box-shadow: 0 1px 2px rgba(60, 64, 67, 0.3), 0 1px 3px 1px rgba(60, 64, 67, 0.15);\n",
              "    fill: var(--button-hover-fill-color);\n",
              "  }\n",
              "\n",
              "  .colab-df-quickchart-complete:disabled,\n",
              "  .colab-df-quickchart-complete:disabled:hover {\n",
              "    background-color: var(--disabled-bg-color);\n",
              "    fill: var(--disabled-fill-color);\n",
              "    box-shadow: none;\n",
              "  }\n",
              "\n",
              "  .colab-df-spinner {\n",
              "    border: 2px solid var(--fill-color);\n",
              "    border-color: transparent;\n",
              "    border-bottom-color: var(--fill-color);\n",
              "    animation:\n",
              "      spin 1s steps(1) infinite;\n",
              "  }\n",
              "\n",
              "  @keyframes spin {\n",
              "    0% {\n",
              "      border-color: transparent;\n",
              "      border-bottom-color: var(--fill-color);\n",
              "      border-left-color: var(--fill-color);\n",
              "    }\n",
              "    20% {\n",
              "      border-color: transparent;\n",
              "      border-left-color: var(--fill-color);\n",
              "      border-top-color: var(--fill-color);\n",
              "    }\n",
              "    30% {\n",
              "      border-color: transparent;\n",
              "      border-left-color: var(--fill-color);\n",
              "      border-top-color: var(--fill-color);\n",
              "      border-right-color: var(--fill-color);\n",
              "    }\n",
              "    40% {\n",
              "      border-color: transparent;\n",
              "      border-right-color: var(--fill-color);\n",
              "      border-top-color: var(--fill-color);\n",
              "    }\n",
              "    60% {\n",
              "      border-color: transparent;\n",
              "      border-right-color: var(--fill-color);\n",
              "    }\n",
              "    80% {\n",
              "      border-color: transparent;\n",
              "      border-right-color: var(--fill-color);\n",
              "      border-bottom-color: var(--fill-color);\n",
              "    }\n",
              "    90% {\n",
              "      border-color: transparent;\n",
              "      border-bottom-color: var(--fill-color);\n",
              "    }\n",
              "  }\n",
              "</style>\n",
              "\n",
              "  <script>\n",
              "    async function quickchart(key) {\n",
              "      const quickchartButtonEl =\n",
              "        document.querySelector('#' + key + ' button');\n",
              "      quickchartButtonEl.disabled = true;  // To prevent multiple clicks.\n",
              "      quickchartButtonEl.classList.add('colab-df-spinner');\n",
              "      try {\n",
              "        const charts = await google.colab.kernel.invokeFunction(\n",
              "            'suggestCharts', [key], {});\n",
              "      } catch (error) {\n",
              "        console.error('Error during call to suggestCharts:', error);\n",
              "      }\n",
              "      quickchartButtonEl.classList.remove('colab-df-spinner');\n",
              "      quickchartButtonEl.classList.add('colab-df-quickchart-complete');\n",
              "    }\n",
              "    (() => {\n",
              "      let quickchartButtonEl =\n",
              "        document.querySelector('#df-4e4fd7fe-8aaa-42c8-a759-1d8427d52fc4 button');\n",
              "      quickchartButtonEl.style.display =\n",
              "        google.colab.kernel.accessAllowed ? 'block' : 'none';\n",
              "    })();\n",
              "  </script>\n",
              "</div>\n",
              "    </div>\n",
              "  </div>\n"
            ],
            "application/vnd.google.colaboratory.intrinsic+json": {
              "type": "dataframe",
              "variable_name": "df",
              "summary": "{\n  \"name\": \"df\",\n  \"rows\": 10,\n  \"fields\": [\n    {\n      \"column\": \"text\",\n      \"properties\": {\n        \"dtype\": \"string\",\n        \"num_unique_values\": 10,\n        \"samples\": [\n          \"Demographics of Saint Petersburg\\n\\n==Ethnicity==\\n\\n|0,05 %\\n|-\\n|Chinese\\n|306\\n|0,01 %\\n|310\\n|0,01 %\\n|\\n|\\n|1451\\n|0,04 %\\n|66\\n|0,00 %\\n|93\\n|0,00 %\\n|1064\\n|0,02 %\\n|0,02 %\\n|1578\\n|0,03 %\\n|0,04 %\\n|-\\n|Estonians\\n|15847\\n|0,98 %\\n|15161\\n|0,48 %\\n|7350\\n|0,22 %\\n|6804\\n|0,17 %\\n|6237\\n|0,14 %\\n|5001\\n|0,10 %\\n|2266\\n|0,05 %\\n|0,05 %\\n|1534\\n|0,03 %\\n|0,04 %\\n|-\\n|Chechens\\n|14\\n|0,01 %\\n|40\\n|0,00 %\\n|\\n|\\n|209\\n|0,01 %\\n|384\\n|0,01 %\\n|1173\\n|0,02 %\\n|1685\\n|0,04 %\\n|0,04 %\\n|1482\\n|0,03 %\\n|0,04 %\\n|-\\n|Turkmens\\n|8\\n|0,00 %\\n|54\\n|0,00 %\\n|\\n|\\n|603\\n|0,02 %\\n|327\\n|0,01 %\\n|1360\\n|0,03 %\\n|793\\n|0,02 %\\n|0,02 %\\n|1469\\n|0,03 %\\n|0,04 %\\n|-\\n|Karelians\\n|494\\n|0,03 %\\n|2534\\n|0,08 %\\n|1972\\n|0,06 %\\n|2407\\n|0,06 %\\n|3194\\n|0,07 %\\n|3607\\n|0,07 %\\n|2142\\n|0,05 %\\n|0,05 %\\n|1396\\n|0,03 %\\n|0,03 %\\n|-\\n|Lithunians\\n|5886\\n|0,37 %\\n|4721\\n|0,15 %\\n|2660\\n|0,08 %\\n|3262\\n|0,08 %\\n|2607\\n|0,06 %\\n|3314\\n|0,07 %\\n|1637\\n|0,04 %\\n|0,04 %\\n|1294\\n|0,03 %\\n|0,03 %\\n|-\\n|Latvians\\n|12046\\n|0,75 %\\n|9554\\n|0,30 %\\n|4564\\n|0,14 %\\n|4346\\n|0,11 %\\n|3971\\n|0,09 %\\n|3400\\n|0,07 %\\n|1705\\n|0,04 %\\n|0,04 %\\n|1291\\n|0,03 %\\n|0,03 %\\n|-\\n|Buryats\\n|66\\n|0,01 %\\n|139\\n|0,00 %\\n|\\n|\\n|272\\n|0,01 %\\n|627\\n|0,01 %\\n|1043\\n|0,02 %\\n|1152\\n|0,02 %\\n|0,03 %\\n|1287\\n|0,03 %\\n|0,03 %\\n|-\\n|Kalmyks\\n|28\\n|0,00 %\\n|40\\n|0,00 %\\n|\\n|\\n|107\\n|0,00 %\\n|269\\n|0,01 %\\n|442\\n|0,01 %\\n|551\\n|0,01 %\\n|0,01 %\\n|1283\\n|0,03 %\\n|0,03 %\\n|-\\n|Karbardians\\n|12\\n|0,00 %\\n|60\\n|0,00 %\\n|\\n|\\n|200\\n|0,01 %\\n|342\\n|0,01 %\\n|727\\n|0,01 %\\n|507\\n|0,01 %\\n|0,01 %\\n|1181\\n|0,02 %\\n|0,03 %\\n|-\\n|Greeks\\n|374\\n|0,02 %\\n|558\\n|0,02 %\\n|\\n|\\n|782\\n|0,02 %\\n|1065\\n|0,02 %\\n|1590\\n|0,03 %\\n|1448\\n|0,03 %\\n|0,03 %\\n|1154\\n|0,02 %\\n|0,03 %\\n|-\\n|Udmurts\\n|\\n|\\n|333\\n|0,01 %\\n|\\n|\\n|627\\n|0,02 %\\n|1155\\n|0,03 %\\n|2162\\n|0,04 %\\n|1265\\n|0,03 %\\n|0,03 %\\n|1076\\n|0,02 %\\n|0,02 %\\n|-\\n|Komi\\n|1069\\n|0,03 %\\n|1007\\n|0,03 %\\n|1153\\n|0,03 %\\n|1506\\n|0,04 %\\n|1650\\n|0,04 %\",\n          \"Naval Cadet Corps (Russia)\\n\\n[[image:Naval Institute of SPB.jpg|thumb|right|Naval Cadet Corps building in 2014]]\\nThe '''Naval Cadet Corps''' ({{lang-ru|\\u041c\\u043e\\u0440\\u0441\\u043a\\u043e\\u0439 \\u043a\\u0430\\u0434\\u0435\\u0442\\u0441\\u043a\\u0438\\u0439 \\u043a\\u043e\\u0440\\u043f\\u0443\\u0441}}), occasionally translated as the Marine Cadet Corps or the Sea Cadet Corps, is an educational establishment for educating naval officers for commissioning in the [[Russian Navy]] in [[Saint Petersburg]].\",\n          \"Demographics of Saint Petersburg\\n\\n==Ethnicity==\\n\\n[[File:Spb_Vasilievsky_Island_Neva_at_SchmidtEmb_asv2019-09_crop.jpg|thumb|right|Panorama of St. Petersburg]]\\nThe 2002 census recorded twenty-two ethnic groups of more than two thousand persons each. The ethnic composition was: [[Russians|Russian]] 84.72%;  [[Ukrainians|Ukrainian]] 1.87%;  [[Belarusians]] 1.17%;  [[Jews|Jewish]] 0.78%;  [[Tatars|Tatar]] 0.76%;  [[Armenians|Armenian]] 0.41%;  [[Azeris in Russia|Azeri]] 0.36%;  [[Georgian people|Georgian]] 0.22%;  [[Chuvash people|Chuvash]] 0.13%;  [[Polish people|Polish]] 0.10%;  [[Finns|Finnish]] 0.08%;  [[Koreans|Korean]] 0.08%;  [[Ethnic German|German]] 0.08%;  [[Moldovans|Moldovan]] 0.07%;  [[Mordovians|Mordovian]] 0.07%;  [[Uzbeks|Uzbek]] 0.06%;  [[Kazakhs|Kazakh]] 0.06%;  [[Ossetians|Ossetian]] 0.06%;  [[Bashkirs|Bashkir]] 0.05%;  [[T\\u0101jik people|Tajik]] 0.05%;  [[Estonians|Estonian]] 0.05%;   [[Karelians|Karelian]] 0.05%;  [[Lithuanian people|Lithuanian]] 0.6%, and many other ethnic groups of less than two thousand persons each.  7.89% of the inhabitants declined to state their ethnicity. As of 2001, 41 percent of Petersburgers identified themselves as [[Russian Orthodox Church|Russian Orthodox]], another 21% called themselves [[Christians]] in general. Almost a half of both groups were at the same time self-reported non-believers. The number of churched parishioners of the [[Russian Orthodox Church]] are estimated as less than 5%.\\n\\nSaint Petersburg has always been populated mostly by [[Russians]], albeit with several sizeable ethnic minorities, such as Germans, Ukrainians, Finns, and people from Eastern Europe, among others. In 1800 an estimated 200 to 300 thousand lived in the city.{{Citation needed|date=May 2008}} After the [[Emancipation reform of 1861|emancipation of serfs]] in 1861, former serfs started arriving to the capital as workers, boosting population from half a million to 1439.6 thousand recorded in the census of 1900.\\n{| class=\\\"wikitable mw-collapsible mw-collapsed\\\"\\n|+Ethnicity of Saint Petersburg over time\\n!\\n!1926\\n\\npopulation.\\n! %\\n!1939\\n\\nPopulation.\\n! %\\n!1959\\n\\nPopulation.\\n! %\\n!1970\\n\\nPopulation.\\n! %\\n!1979\\n\\nPopulation.\\n! %\\n!1989\\n\\n Population.\\n! %\\n!2002\\n\\nPopulation.\\n! %\\n!<small>% of the population who declared a ethnicity</small>\\n!2010\"\n        ],\n        \"semantic_type\": \"\",\n        \"description\": \"\"\n      }\n    },\n    {\n      \"column\": \"embedding\",\n      \"properties\": {\n        \"dtype\": \"object\",\n        \"semantic_type\": \"\",\n        \"description\": \"\"\n      }\n    }\n  ]\n}"
            }
          },
          "metadata": {},
          "execution_count": 17
        },
        {
          "output_type": "stream",
          "name": "stderr",
          "text": [
            "/usr/local/lib/python3.10/dist-packages/ipykernel/ipkernel.py:283: DeprecationWarning: `should_run_async` will not call `transform_cell` automatically in the future. Please pass the result to `transformed_cell` argument and any exception that happen during thetransform in `preprocessing_exc_tuple` in IPython 7.17 and above.\n",
            "  and should_run_async(code)\n"
          ]
        }
      ]
    }
  ]
}